{
 "cells": [
  {
   "cell_type": "code",
   "execution_count": 1,
   "metadata": {},
   "outputs": [],
   "source": [
    "import yfinance as yf\n",
    "import pandas as pd\n",
    "from openpyxl import load_workbook\n",
    "import warnings\n",
    "import os\n",
    "warnings.filterwarnings('ignore')"
   ]
  },
  {
   "cell_type": "code",
   "execution_count": 2,
   "metadata": {},
   "outputs": [],
   "source": [
    "# Code to the main function. It extracts the correct tickers values, even if passed as tuples, lists and also removes incorrect values.\n",
    "\n",
    "def get_last_dividend(ticker, *args) -> pd.DataFrame:\n",
    "  '''\n",
    "  Params:\n",
    "  ticker = Ticker or list of tickers whose stock you want information.\n",
    "  ============================================================================\n",
    "  Output:\n",
    "  last_dividends = Returns a DataFrame with last dividend information for each passed ticker.\n",
    "  '''\n",
    "  tickers = [ticker, *args]\n",
    "  last_dividends = pd.DataFrame()\n",
    "  formated_tickers = []\n",
    "  for ticker in tickers:\n",
    "    formated_tickers.append(ticker) if isinstance(ticker, str) else None\n",
    "    if isinstance(ticker, (list, tuple)):\n",
    "      for n in ticker:\n",
    "        formated_tickers.append(n) if isinstance(n, str) else None\n",
    "  if len(formated_tickers) == 0: raise ValueError(\"No valid ticker was identified.\")\n",
    "  for form_ticker in formated_tickers:\n",
    "    try:\n",
    "      ticker_obj = yf.Ticker(form_ticker)\n",
    "      dividends = ticker_obj.dividends.reset_index().tail(1)\n",
    "      dividends['Date'] = dividends[\"Date\"].astype(str).apply(lambda x: x.split(' ').pop(0))\n",
    "      dividends['Ticker'] = ticker_obj.ticker\n",
    "      last_dividends = pd.concat([last_dividends, dividends], ignore_index=True, axis=0)\n",
    "    except:\n",
    "      print(f'The value: {form_ticker} is not a valid ticker.')\n",
    "  return last_dividends"
   ]
  },
  {
   "cell_type": "code",
   "execution_count": 3,
   "metadata": {},
   "outputs": [
    {
     "name": "stderr",
     "output_type": "stream",
     "text": [
      "$PETR4: possibly delisted; no timezone found\n"
     ]
    },
    {
     "name": "stdout",
     "output_type": "stream",
     "text": [
      "The value: PETR4 is not a valid ticker.\n"
     ]
    },
    {
     "data": {
      "text/html": [
       "<div>\n",
       "<style scoped>\n",
       "    .dataframe tbody tr th:only-of-type {\n",
       "        vertical-align: middle;\n",
       "    }\n",
       "\n",
       "    .dataframe tbody tr th {\n",
       "        vertical-align: top;\n",
       "    }\n",
       "\n",
       "    .dataframe thead th {\n",
       "        text-align: right;\n",
       "    }\n",
       "</style>\n",
       "<table border=\"1\" class=\"dataframe\">\n",
       "  <thead>\n",
       "    <tr style=\"text-align: right;\">\n",
       "      <th></th>\n",
       "      <th>Date</th>\n",
       "      <th>Dividends</th>\n",
       "      <th>Ticker</th>\n",
       "    </tr>\n",
       "  </thead>\n",
       "  <tbody>\n",
       "    <tr>\n",
       "      <th>0</th>\n",
       "      <td>2025-02-19</td>\n",
       "      <td>0.920000</td>\n",
       "      <td>XPML11.SA</td>\n",
       "    </tr>\n",
       "    <tr>\n",
       "      <th>1</th>\n",
       "      <td>2025-02-03</td>\n",
       "      <td>0.950000</td>\n",
       "      <td>KNIP11.SA</td>\n",
       "    </tr>\n",
       "    <tr>\n",
       "      <th>2</th>\n",
       "      <td>2024-12-26</td>\n",
       "      <td>1.339555</td>\n",
       "      <td>PETR4.SA</td>\n",
       "    </tr>\n",
       "  </tbody>\n",
       "</table>\n",
       "</div>"
      ],
      "text/plain": [
       "         Date  Dividends     Ticker\n",
       "0  2025-02-19   0.920000  XPML11.SA\n",
       "1  2025-02-03   0.950000  KNIP11.SA\n",
       "2  2024-12-26   1.339555   PETR4.SA"
      ]
     },
     "execution_count": 3,
     "metadata": {},
     "output_type": "execute_result"
    }
   ],
   "source": [
    "# This cell shows the pandas DF output of the function.\n",
    "\n",
    "get_last_dividend((\"XPML11.SA\"), [\"KNIP11.SA\", 2], (\"PETR4.SA\", \"PETR4\", 5))"
   ]
  },
  {
   "cell_type": "code",
   "execution_count": 4,
   "metadata": {},
   "outputs": [
    {
     "name": "stderr",
     "output_type": "stream",
     "text": [
      "$PETR4: possibly delisted; no timezone found\n"
     ]
    },
    {
     "name": "stdout",
     "output_type": "stream",
     "text": [
      "The value: PETR4 is not a valid ticker.\n"
     ]
    }
   ],
   "source": [
    "# This cell saves the DataFrame as an excel file if it doesn't exists.\n",
    "\n",
    "dvds = get_last_dividend((\"XPML11.SA\"), [\"KNIP11.SA\", 2], (\"PETR4.SA\", \"PETR4\", 5))\n",
    "if not os.path.exists(\"./data/teste.xlsx\"):\n",
    "    os.mkdir(\"./data/\")\n",
    "    dvds.to_excel('./data/teste.xlsx', index=False)"
   ]
  },
  {
   "cell_type": "code",
   "execution_count": 5,
   "metadata": {},
   "outputs": [],
   "source": [
    "# This cell appends new values to the excel files.\n",
    "\n",
    "workbook = load_workbook('data/teste.xlsx')  # Replace with your actual file name\n",
    "sheet = workbook.active  # Assuming you want to append to the active sheet\n",
    "# Assuming 'dvds' is your DataFrame with the last dividends\n",
    "dvds = get_last_dividend((\"XPLG11.SA\"))\n",
    "for index, row in dvds.iterrows():\n",
    "    sheet.append([row['Date'], row['Dividends'], row['Ticker']])  # Adjust column names as needed\n",
    "workbook.save('data/teste.xlsx')  # Save the changes back to the file"
   ]
  },
  {
   "cell_type": "code",
   "execution_count": 6,
   "metadata": {},
   "outputs": [
    {
     "data": {
      "text/html": [
       "<div>\n",
       "<style scoped>\n",
       "    .dataframe tbody tr th:only-of-type {\n",
       "        vertical-align: middle;\n",
       "    }\n",
       "\n",
       "    .dataframe tbody tr th {\n",
       "        vertical-align: top;\n",
       "    }\n",
       "\n",
       "    .dataframe thead th {\n",
       "        text-align: right;\n",
       "    }\n",
       "</style>\n",
       "<table border=\"1\" class=\"dataframe\">\n",
       "  <thead>\n",
       "    <tr style=\"text-align: right;\">\n",
       "      <th></th>\n",
       "      <th>Date</th>\n",
       "      <th>Dividends</th>\n",
       "      <th>Ticker</th>\n",
       "    </tr>\n",
       "  </thead>\n",
       "  <tbody>\n",
       "    <tr>\n",
       "      <th>0</th>\n",
       "      <td>2025-02-19</td>\n",
       "      <td>0.920000</td>\n",
       "      <td>XPML11.SA</td>\n",
       "    </tr>\n",
       "    <tr>\n",
       "      <th>1</th>\n",
       "      <td>2025-02-03</td>\n",
       "      <td>0.950000</td>\n",
       "      <td>KNIP11.SA</td>\n",
       "    </tr>\n",
       "    <tr>\n",
       "      <th>2</th>\n",
       "      <td>2024-12-26</td>\n",
       "      <td>1.339555</td>\n",
       "      <td>PETR4.SA</td>\n",
       "    </tr>\n",
       "    <tr>\n",
       "      <th>3</th>\n",
       "      <td>2025-02-03</td>\n",
       "      <td>0.820000</td>\n",
       "      <td>XPLG11.SA</td>\n",
       "    </tr>\n",
       "  </tbody>\n",
       "</table>\n",
       "</div>"
      ],
      "text/plain": [
       "         Date  Dividends     Ticker\n",
       "0  2025-02-19   0.920000  XPML11.SA\n",
       "1  2025-02-03   0.950000  KNIP11.SA\n",
       "2  2024-12-26   1.339555   PETR4.SA\n",
       "3  2025-02-03   0.820000  XPLG11.SA"
      ]
     },
     "execution_count": 6,
     "metadata": {},
     "output_type": "execute_result"
    }
   ],
   "source": [
    "# Checking if new values were saved\n",
    "\n",
    "pd.read_excel(\"./data/teste.xlsx\")"
   ]
  }
 ],
 "metadata": {
  "kernelspec": {
   "display_name": "cuda",
   "language": "python",
   "name": "python3"
  },
  "language_info": {
   "codemirror_mode": {
    "name": "ipython",
    "version": 3
   },
   "file_extension": ".py",
   "mimetype": "text/x-python",
   "name": "python",
   "nbconvert_exporter": "python",
   "pygments_lexer": "ipython3",
   "version": "3.12.8"
  }
 },
 "nbformat": 4,
 "nbformat_minor": 2
}
