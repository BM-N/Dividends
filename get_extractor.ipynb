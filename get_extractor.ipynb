{
 "cells": [
  {
   "cell_type": "code",
   "execution_count": null,
   "metadata": {},
   "outputs": [],
   "source": [
    "import yfinance as yf\n",
    "import pandas as pd\n",
    "from openpyxl import load_workbook\n",
    "import warnings\n",
    "warnings.filterwarnings('ignore')"
   ]
  },
  {
   "cell_type": "code",
   "execution_count": null,
   "metadata": {},
   "outputs": [],
   "source": [
    "def get_last_dividend(ticker, *args):\n",
    "  '''\n",
    "  Params:\n",
    "  ticker = Ticker or list of tickers whose stock you want the information.\n",
    "  ============================================================================\n",
    "  Output:\n",
    "  ticker = Returns a DataFrame with last dividend date and value for each ticker.\n",
    "  '''\n",
    "  tickers = (ticker,) + tuple(args)\n",
    "  last_dividends = pd.DataFrame()\n",
    "  for ticker in tickers:\n",
    "    if type(ticker) != str and type(ticker) != list:\n",
    "      raise TypeError(\"Ticker should be passed as a string or a list of strings\")\n",
    "    if type(ticker) == list and len(ticker)>0:\n",
    "      ticker = [ticker[i] for i in range(len(ticker)) if type(ticker[i]) == str]\n",
    "      for n in range(len(ticker)):\n",
    "        ticker_value = ticker[n]\n",
    "        ticker_obj = yf.Ticker(ticker_value)\n",
    "        dividends = ticker_obj.dividends.reset_index().tail(1)\n",
    "        dividends['Date'] = dividends[\"Date\"].astype(str).apply(lambda x: x.split(' ').pop(0))\n",
    "        dividends['Ticker'] = ticker_value\n",
    "        last_dividends = pd.concat([last_dividends, dividends], ignore_index=True, axis=0)\n",
    "    else:\n",
    "      if type(ticker) != str: raise TypeError(\"Ticker should be passed as a string, multiple strings or a list of strings\")\n",
    "      ticker_value = ticker\n",
    "      ticker_obj = yf.Ticker(ticker_value)\n",
    "      dividends = ticker_obj.dividends.reset_index().tail(1)\n",
    "      dividends['Date'] = dividends[\"Date\"].astype(str).apply(lambda x: x.split(' ').pop(0))\n",
    "      dividends['Ticker'] = ticker_value\n",
    "      last_dividends = pd.concat([last_dividends, dividends], ignore_index=True, axis=0)\n",
    "  return last_dividends"
   ]
  },
  {
   "cell_type": "code",
   "execution_count": 12,
   "metadata": {},
   "outputs": [
    {
     "data": {
      "text/html": [
       "<div>\n",
       "<style scoped>\n",
       "    .dataframe tbody tr th:only-of-type {\n",
       "        vertical-align: middle;\n",
       "    }\n",
       "\n",
       "    .dataframe tbody tr th {\n",
       "        vertical-align: top;\n",
       "    }\n",
       "\n",
       "    .dataframe thead th {\n",
       "        text-align: right;\n",
       "    }\n",
       "</style>\n",
       "<table border=\"1\" class=\"dataframe\">\n",
       "  <thead>\n",
       "    <tr style=\"text-align: right;\">\n",
       "      <th></th>\n",
       "      <th>Date</th>\n",
       "      <th>Dividends</th>\n",
       "      <th>Ticker</th>\n",
       "    </tr>\n",
       "  </thead>\n",
       "  <tbody>\n",
       "    <tr>\n",
       "      <th>0</th>\n",
       "      <td>2025-02-19</td>\n",
       "      <td>0.920000</td>\n",
       "      <td>XPML11.SA</td>\n",
       "    </tr>\n",
       "    <tr>\n",
       "      <th>1</th>\n",
       "      <td>2025-02-03</td>\n",
       "      <td>0.950000</td>\n",
       "      <td>KNIP11.SA</td>\n",
       "    </tr>\n",
       "    <tr>\n",
       "      <th>2</th>\n",
       "      <td>2024-12-26</td>\n",
       "      <td>1.339555</td>\n",
       "      <td>PETR4.SA</td>\n",
       "    </tr>\n",
       "  </tbody>\n",
       "</table>\n",
       "</div>"
      ],
      "text/plain": [
       "         Date  Dividends     Ticker\n",
       "0  2025-02-19   0.920000  XPML11.SA\n",
       "1  2025-02-03   0.950000  KNIP11.SA\n",
       "2  2024-12-26   1.339555   PETR4.SA"
      ]
     },
     "execution_count": 12,
     "metadata": {},
     "output_type": "execute_result"
    }
   ],
   "source": [
    "get_last_dividend((\"XPML11.SA\"), [\"KNIP11.SA\", 2], (\"PETR4.SA\", 2, 5))"
   ]
  },
  {
   "cell_type": "code",
   "execution_count": 7,
   "metadata": {},
   "outputs": [],
   "source": [
    "dvds = get_last_dividend((\"XPML11.SA\"), [\"KNIP11.SA\", 2], (\"PETR4.SA\", 2, 5))\n",
    "dvds.to_excel('./data/teste.xlsx', index=False)"
   ]
  },
  {
   "cell_type": "code",
   "execution_count": null,
   "metadata": {},
   "outputs": [],
   "source": [
    "\n",
    "workbook = load_workbook('data/teste.xlsx')  # Replace with your actual file name\n",
    "sheet = workbook.active  # Assuming you want to append to the active sheet\n",
    "# Assuming 'dvds' is your DataFrame with the last dividends\n",
    "dvds = get_last_dividend((\"XPLG11.SA\"))\n",
    "for index, row in dds.iterrows():\n",
    "    sheet.append([row['Date'], row['Dividends'], row['Ticker']])  # Adjust column names as needed\n",
    "\n",
    "workbook.save('data/teste.xlsx')  # Save the changes back to the file"
   ]
  },
  {
   "cell_type": "code",
   "execution_count": null,
   "metadata": {},
   "outputs": [],
   "source": []
  }
 ],
 "metadata": {
  "kernelspec": {
   "display_name": "cuda",
   "language": "python",
   "name": "python3"
  },
  "language_info": {
   "codemirror_mode": {
    "name": "ipython",
    "version": 3
   },
   "file_extension": ".py",
   "mimetype": "text/x-python",
   "name": "python",
   "nbconvert_exporter": "python",
   "pygments_lexer": "ipython3",
   "version": "3.12.8"
  }
 },
 "nbformat": 4,
 "nbformat_minor": 2
}
